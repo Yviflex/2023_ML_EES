{
  "nbformat": 4,
  "nbformat_minor": 0,
  "metadata": {
    "colab": {
      "provenance": []
    },
    "kernelspec": {
      "name": "python3",
      "display_name": "Python 3"
    },
    "language_info": {
      "name": "python"
    }
  },
  "cells": [
    {
      "cell_type": "code",
      "execution_count": null,
      "metadata": {
        "id": "h7fcMRosTlHr"
      },
      "outputs": [],
      "source": [
        "#@title Run This cell to import common modules. Double click on this if you want to take a look at the code 😀\n",
        "'''\n",
        "First, let's import a few common modules, ensure MatplotLib plots figures inline\n",
        "and prepare a function to save the figures. We also check that Python 3.5 or\n",
        "later is installed (although Python 2.x may work, it is deprecated so we\n",
        "strongly recommend you use Python 3 instead), as well as Scikit-Learn ≥0.20.\n",
        "\n",
        "You don't need to worry about understanding everything that is written\n",
        "in this section.\n",
        "''';\n",
        "\n",
        "# Python ≥3.5 is required\n",
        "from imblearn.under_sampling import RandomUnderSampler\n",
        "import tensorflow as tf\n",
        "import sys\n",
        "assert sys.version_info >= (3, 5)\n",
        "\n",
        "# Is this notebook running on Colab or Kaggle?\n",
        "IS_COLAB = \"google.colab\" in sys.modules\n",
        "\n",
        "# Scikit-Learn ≥0.20 is required\n",
        "import sklearn\n",
        "assert sklearn.__version__ >= \"0.20\"\n",
        "\n",
        "# Common imports\n",
        "import numpy as np\n",
        "import os\n",
        "\n",
        "# to make this notebook's output stable across runs\n",
        "rnd_seed = 42\n",
        "rnd_gen = np.random.default_rng(rnd_seed)\n",
        "\n",
        "# To plot pretty figures\n",
        "%matplotlib inline\n",
        "import matplotlib as mpl\n",
        "import matplotlib.pyplot as plt\n",
        "mpl.rc('axes', labelsize=14)\n",
        "mpl.rc('xtick', labelsize=12)\n",
        "mpl.rc('ytick', labelsize=12)\n",
        "\n",
        "# Where to save the figures\n",
        "PROJECT_ROOT_DIR = \".\"\n",
        "CHAPTER_ID = \"classification\"\n",
        "IMAGES_PATH = os.path.join(PROJECT_ROOT_DIR, \"images\", CHAPTER_ID)\n",
        "os.makedirs(IMAGES_PATH, exist_ok=True)\n",
        "\n",
        "def save_fig(fig_id, tight_layout=True, fig_extension=\"png\", resolution=300):\n",
        "    path = os.path.join(IMAGES_PATH, fig_id + \".\" + fig_extension)\n",
        "    print(\"Saving figure\", fig_id)\n",
        "    if tight_layout:\n",
        "        plt.tight_layout()\n",
        "    plt.savefig(path, format=fig_extension, dpi=resolution)"
      ]
    },
    {
      "cell_type": "code",
      "source": [
        "# path to the folder containing our ornithischian images and theropod images\n",
        "data_dir='/content/drive/MyDrive/ML_ENV/rsif-2022-0588-File007/dataset'\n",
        "#data_dir=\"./dataset\" # TODO remove this line"
      ],
      "metadata": {
        "id": "WsX0lsZFTm2V"
      },
      "execution_count": null,
      "outputs": []
    },
    {
      "cell_type": "code",
      "source": [
        "# Checking that our folder contains both classes\n",
        "for image_class in os.listdir(data_dir):\n",
        "  print(image_class)"
      ],
      "metadata": {
        "colab": {
          "base_uri": "https://localhost:8080/"
        },
        "id": "75eC2vJgT96J",
        "outputId": "1495864c-67d4-42cd-ecb2-c8f2203322dd"
      },
      "execution_count": null,
      "outputs": [
        {
          "output_type": "stream",
          "name": "stdout",
          "text": [
            "ornithischian\n",
            "theropod\n"
          ]
        }
      ]
    },
    {
      "cell_type": "code",
      "source": [
        "# reload the dataset\n",
        "data = tf.keras.utils.image_dataset_from_directory(data_dir, image_size = (100,100))"
      ],
      "metadata": {
        "colab": {
          "base_uri": "https://localhost:8080/"
        },
        "id": "B0tBJMX-UUu8",
        "outputId": "fd20dcb7-7e1f-4774-de92-d8dda59fd251"
      },
      "execution_count": null,
      "outputs": [
        {
          "output_type": "stream",
          "name": "stdout",
          "text": [
            "Found 1587 files belonging to 2 classes.\n"
          ]
        }
      ]
    },
    {
      "cell_type": "code",
      "source": [
        "# Checking that our folder contains both classes\n",
        "for image_class in os.listdir(data_dir):\n",
        "  print(image_class)"
      ],
      "metadata": {
        "colab": {
          "base_uri": "https://localhost:8080/"
        },
        "id": "XgHO781_gDGq",
        "outputId": "918ac575-fc6a-4ef7-f9b4-5f2ec46da05a"
      },
      "execution_count": null,
      "outputs": [
        {
          "output_type": "stream",
          "name": "stdout",
          "text": [
            "ornithischian\n",
            "theropod\n"
          ]
        }
      ]
    },
    {
      "cell_type": "code",
      "source": [
        "# converts our images to numpy arrays for us to easily loop through the data\n",
        "data_iterator = data.as_numpy_iterator()"
      ],
      "metadata": {
        "id": "4Hj_SH1lgEIh"
      },
      "execution_count": null,
      "outputs": []
    },
    {
      "cell_type": "code",
      "source": [
        "class_indices = [0, 1]\n",
        "\n",
        "# Extract labels and features from the dataset\n",
        "labels = []\n",
        "features = []\n",
        "\n",
        "for batch in data:\n",
        "    features.append(batch[0])\n",
        "    labels.append(batch[1])\n",
        "\n",
        "features = np.concatenate(features, axis=0)\n",
        "labels = np.concatenate(labels, axis=0)\n",
        "\n",
        "# Reshape the labels to a 1D array\n",
        "labels = labels.reshape(-1, 1)\n",
        "\n",
        "# Count the number of samples in each class\n",
        "class_counts = [np.sum(labels == i) for i in class_indices]\n",
        "\n",
        "# Calculate the desired number of samples for undersampling\n",
        "desired_samples = min(class_counts)\n",
        "\n",
        "# Calculate the undersampling ratios\n",
        "sampling_ratios = {class_indices[i]: desired_samples for i in range(len(class_indices))}\n",
        "\n",
        "# Initialize the RandomUnderSampler\n",
        "rus = RandomUnderSampler(sampling_strategy=sampling_ratios, random_state=42)\n",
        "\n",
        "# Resample the data\n",
        "resampled_features, resampled_labels = rus.fit_resample(features.reshape(-1, 100 * 100 * 3), labels)\n",
        "\n",
        "# Reshape the data back to the original shape\n",
        "resampled_features = resampled_features.reshape(-1, 100, 100, 3)\n",
        "\n",
        "# Convert labels back to 1D array\n",
        "resampled_labels = resampled_labels.flatten()\n",
        "\n",
        "# Create a new tf.data.Dataset for features and labels\n",
        "resampled_data = tf.data.Dataset.from_tensor_slices((resampled_features, resampled_labels))\n",
        "data = resampled_data.shuffle(buffer_size=len(resampled_labels))"
      ],
      "metadata": {
        "id": "anFVu_wzgELD"
      },
      "execution_count": null,
      "outputs": []
    },
    {
      "cell_type": "code",
      "source": [
        "# assigning ou new X and y data\n",
        "bal_X=resampled_features\n",
        "bal_y=resampled_labels\n",
        "print(len(bal_X))\n",
        "# Shuffling the balanced dataset\n",
        "shuffler = rnd_gen.permutation(len(bal_X))\n",
        "bal_X = bal_X[shuffler]\n",
        "bal_y = bal_y[shuffler]\n",
        "print(len(bal_X))"
      ],
      "metadata": {
        "colab": {
          "base_uri": "https://localhost:8080/"
        },
        "id": "3ZKpZ4hLW1Y7",
        "outputId": "7ddae39f-1378-4c1d-a405-cbe9dd5fe0dc"
      },
      "execution_count": null,
      "outputs": [
        {
          "output_type": "stream",
          "name": "stdout",
          "text": [
            "1216\n",
            "1216\n"
          ]
        }
      ]
    },
    {
      "cell_type": "code",
      "source": [
        "# reduce number of vhannels by changing to grayscale\n",
        "bal_X=[tf.image.rgb_to_grayscale(image) for image in bal_X]"
      ],
      "metadata": {
        "id": "uCmQV6HNYnci"
      },
      "execution_count": null,
      "outputs": []
    },
    {
      "cell_type": "code",
      "source": [
        "# Test that the label and image match. We're using np.random instead of our\n",
        "# rnd_gen since we don't want the runs of this snippet to vary the results in\n",
        "# other snippets :) Run this as many times as you want!\n",
        "test = np.random.randint(0,len(bal_X))\n",
        "plt.imshow(bal_X[test], cmap='Greys')\n",
        "print(f'The image should be of a(n) {bal_y[test]}')"
      ],
      "metadata": {
        "colab": {
          "base_uri": "https://localhost:8080/",
          "height": 456
        },
        "id": "CTSnyFJKX6Bc",
        "outputId": "f877890b-7cb7-44c7-b4f5-3bd10a38a072"
      },
      "execution_count": null,
      "outputs": [
        {
          "output_type": "stream",
          "name": "stdout",
          "text": [
            "The image should be of a(n) 1\n"
          ]
        },
        {
          "output_type": "display_data",
          "data": {
            "text/plain": [
              "<Figure size 640x480 with 1 Axes>"
            ],
            "image/png": "[encoded data removed]"
          },
          "metadata": {}
        }
      ]
    },
    {
      "cell_type": "code",
      "source": [
        "import numpy as np\n",
        "import tensorflow as tf\n",
        "\n",
        "# Assuming bal_X is a list of TensorFlow EagerTensors\n",
        "# Convert each EagerTensor to a NumPy array and then flatten\n",
        "bal_X = [tf.reshape(image, [-1]).numpy() for image in bal_X]"
      ],
      "metadata": {
        "id": "m9FxGCWzbaEN"
      },
      "execution_count": null,
      "outputs": []
    },
    {
      "cell_type": "code",
      "source": [
        "# Splitting the dataset into train and test\n",
        "from sklearn.model_selection import train_test_split\n",
        "\n",
        "# set % of data to be used for testing\n",
        "test_size=.10\n",
        "\n",
        "# and split the dataset accordingly\n",
        "X_train, X_test, y_train, y_test = train_test_split(\n",
        "    bal_X, # the source of X data\n",
        "    bal_y, # the source of y data\n",
        "    test_size = test_size, # the percent of data to retain as a test\n",
        "    random_state = rnd_seed ) # set the random seed - consistent runs are important!"
      ],
      "metadata": {
        "id": "lAVncBIvbV6g"
      },
      "execution_count": null,
      "outputs": []
    },
    {
      "cell_type": "code",
      "source": [
        "# Begin by importing the KNeighersClassifier and GridSearchCV from scikit.\n",
        "from sklearn.neighbors import KNeighborsClassifier\n",
        "from sklearn.model_selection import GridSearchCV"
      ],
      "metadata": {
        "id": "vwpxgNmfYMOZ"
      },
      "execution_count": null,
      "outputs": []
    },
    {
      "cell_type": "code",
      "source": [
        "# Fill in the blanks in the code below\n",
        "param_grid = {'weights':['uniform', 'distance'], # 1st hyperparameter and the values it can take\n",
        "              'n_neighbors':list(range(1, 10)) # 2nd hyperparameter and the values it can take\n",
        "              }"
      ],
      "metadata": {
        "id": "FCBuujB0Zyoy"
      },
      "execution_count": null,
      "outputs": []
    },
    {
      "cell_type": "code",
      "source": [
        "# Instantiate the imported model class\n",
        "knn_clf = KNeighborsClassifier()"
      ],
      "metadata": {
        "id": "7BKjs4WZZ2oH"
      },
      "execution_count": null,
      "outputs": []
    },
    {
      "cell_type": "code",
      "source": [
        "# We define a grid search using the knn_clf model and param grid. We will set\n",
        "# the number of folds for the cross-validation to 6, and use the most verbose\n",
        "# setting to get the best idea of how well each cv run performs.\n",
        "\n",
        "\n",
        "# Let's instantiate the scikit class used to do grid searches\n",
        "grid_search = GridSearchCV(\n",
        "    knn_clf, # The model we're going to use in the search\n",
        "    param_grid, # The method dictionary of parameters we'll iterate through in the search\n",
        "    cv = 6, # The number of folds used to cross-validate\n",
        "    verbose = 3) #Let's set the verbosity to the highest level: 3"
      ],
      "metadata": {
        "id": "tPuFe-f8Z4k9"
      },
      "execution_count": null,
      "outputs": []
    },
    {
      "cell_type": "code",
      "source": [
        "# import numpy as np\n",
        "# import tensorflow as tf\n",
        "\n",
        "# # Assuming bal_X is a list of TensorFlow EagerTensors\n",
        "# # Convert each EagerTensor to a NumPy array and then flatten\n",
        "# bal_X_flat = [tf.reshape(image, [-1]).numpy() for image in bal_X]\n",
        "\n",
        "# # Convert the list of flattened arrays to a 2D NumPy array\n",
        "# X_train_flat = np.stack(bal_X_flat, axis=0)"
      ],
      "metadata": {
        "id": "wm5oKtFRcbJ-"
      },
      "execution_count": null,
      "outputs": []
    },
    {
      "cell_type": "code",
      "source": [
        "# Complete the code\n",
        "grid_search.fit(X_train,y_train)"
      ],
      "metadata": {
        "colab": {
          "base_uri": "https://localhost:8080/",
          "height": 1000
        },
        "id": "UJzb6BtWZ7FV",
        "outputId": "8e2af4be-9801-459b-bb09-9e5a57da9886"
      },
      "execution_count": null,
      "outputs": [
        {
          "output_type": "stream",
          "name": "stdout",
          "text": [
            "Fitting 6 folds for each of 18 candidates, totalling 108 fits\n",
            "[CV 1/6] END ....n_neighbors=1, weights=uniform;, score=0.732 total time=   0.2s\n",
            "[CV 2/6] END ....n_neighbors=1, weights=uniform;, score=0.770 total time=   0.2s\n",
            "[CV 3/6] END ....n_neighbors=1, weights=uniform;, score=0.808 total time=   0.3s\n",
            "[CV 4/6] END ....n_neighbors=1, weights=uniform;, score=0.786 total time=   0.4s\n",
            "[CV 5/6] END ....n_neighbors=1, weights=uniform;, score=0.758 total time=   0.4s\n",
            "[CV 6/6] END ....n_neighbors=1, weights=uniform;, score=0.758 total time=   0.4s\n",
            "[CV 1/6] END ...n_neighbors=1, weights=distance;, score=0.732 total time=   0.4s\n",
            "[CV 2/6] END ...n_neighbors=1, weights=distance;, score=0.770 total time=   0.4s\n",
            "[CV 3/6] END ...n_neighbors=1, weights=distance;, score=0.808 total time=   0.4s\n",
            "[CV 4/6] END ...n_neighbors=1, weights=distance;, score=0.786 total time=   0.5s\n",
            "[CV 5/6] END ...n_neighbors=1, weights=distance;, score=0.758 total time=   0.4s\n",
            "[CV 6/6] END ...n_neighbors=1, weights=distance;, score=0.758 total time=   0.3s\n",
            "[CV 1/6] END ....n_neighbors=2, weights=uniform;, score=0.727 total time=   0.5s\n",
            "[CV 2/6] END ....n_neighbors=2, weights=uniform;, score=0.770 total time=   0.4s\n",
            "[CV 3/6] END ....n_neighbors=2, weights=uniform;, score=0.780 total time=   0.4s\n",
            "[CV 4/6] END ....n_neighbors=2, weights=uniform;, score=0.742 total time=   0.4s\n",
            "[CV 5/6] END ....n_neighbors=2, weights=uniform;, score=0.780 total time=   0.3s\n",
            "[CV 6/6] END ....n_neighbors=2, weights=uniform;, score=0.714 total time=   0.2s\n",
            "[CV 1/6] END ...n_neighbors=2, weights=distance;, score=0.732 total time=   0.2s\n",
            "[CV 2/6] END ...n_neighbors=2, weights=distance;, score=0.770 total time=   0.2s\n",
            "[CV 3/6] END ...n_neighbors=2, weights=distance;, score=0.808 total time=   0.2s\n",
            "[CV 4/6] END ...n_neighbors=2, weights=distance;, score=0.786 total time=   0.2s\n",
            "[CV 5/6] END ...n_neighbors=2, weights=distance;, score=0.758 total time=   0.2s\n",
            "[CV 6/6] END ...n_neighbors=2, weights=distance;, score=0.758 total time=   0.2s\n",
            "[CV 1/6] END ....n_neighbors=3, weights=uniform;, score=0.765 total time=   0.2s\n",
            "[CV 2/6] END ....n_neighbors=3, weights=uniform;, score=0.798 total time=   0.2s\n",
            "[CV 3/6] END ....n_neighbors=3, weights=uniform;, score=0.786 total time=   0.2s\n",
            "[CV 4/6] END ....n_neighbors=3, weights=uniform;, score=0.725 total time=   0.2s\n",
            "[CV 5/6] END ....n_neighbors=3, weights=uniform;, score=0.747 total time=   0.2s\n",
            "[CV 6/6] END ....n_neighbors=3, weights=uniform;, score=0.758 total time=   0.2s\n",
            "[CV 1/6] END ...n_neighbors=3, weights=distance;, score=0.765 total time=   0.2s\n",
            "[CV 2/6] END ...n_neighbors=3, weights=distance;, score=0.798 total time=   0.2s\n",
            "[CV 3/6] END ...n_neighbors=3, weights=distance;, score=0.786 total time=   0.2s\n",
            "[CV 4/6] END ...n_neighbors=3, weights=distance;, score=0.725 total time=   0.2s\n",
            "[CV 5/6] END ...n_neighbors=3, weights=distance;, score=0.747 total time=   0.2s\n",
            "[CV 6/6] END ...n_neighbors=3, weights=distance;, score=0.758 total time=   0.2s\n",
            "[CV 1/6] END ....n_neighbors=4, weights=uniform;, score=0.754 total time=   0.2s\n",
            "[CV 2/6] END ....n_neighbors=4, weights=uniform;, score=0.792 total time=   0.2s\n",
            "[CV 3/6] END ....n_neighbors=4, weights=uniform;, score=0.791 total time=   0.2s\n",
            "[CV 4/6] END ....n_neighbors=4, weights=uniform;, score=0.725 total time=   0.2s\n",
            "[CV 5/6] END ....n_neighbors=4, weights=uniform;, score=0.758 total time=   0.2s\n",
            "[CV 6/6] END ....n_neighbors=4, weights=uniform;, score=0.758 total time=   0.2s\n",
            "[CV 1/6] END ...n_neighbors=4, weights=distance;, score=0.770 total time=   0.2s\n",
            "[CV 2/6] END ...n_neighbors=4, weights=distance;, score=0.803 total time=   0.2s\n",
            "[CV 3/6] END ...n_neighbors=4, weights=distance;, score=0.797 total time=   0.2s\n",
            "[CV 4/6] END ...n_neighbors=4, weights=distance;, score=0.758 total time=   0.2s\n",
            "[CV 5/6] END ...n_neighbors=4, weights=distance;, score=0.753 total time=   0.2s\n",
            "[CV 6/6] END ...n_neighbors=4, weights=distance;, score=0.764 total time=   0.2s\n",
            "[CV 1/6] END ....n_neighbors=5, weights=uniform;, score=0.760 total time=   0.2s\n",
            "[CV 2/6] END ....n_neighbors=5, weights=uniform;, score=0.814 total time=   0.2s\n",
            "[CV 3/6] END ....n_neighbors=5, weights=uniform;, score=0.775 total time=   0.2s\n",
            "[CV 4/6] END ....n_neighbors=5, weights=uniform;, score=0.764 total time=   0.2s\n",
            "[CV 5/6] END ....n_neighbors=5, weights=uniform;, score=0.764 total time=   0.2s\n",
            "[CV 6/6] END ....n_neighbors=5, weights=uniform;, score=0.742 total time=   0.2s\n",
            "[CV 1/6] END ...n_neighbors=5, weights=distance;, score=0.760 total time=   0.2s\n",
            "[CV 2/6] END ...n_neighbors=5, weights=distance;, score=0.814 total time=   0.2s\n",
            "[CV 3/6] END ...n_neighbors=5, weights=distance;, score=0.775 total time=   0.2s\n",
            "[CV 4/6] END ...n_neighbors=5, weights=distance;, score=0.764 total time=   0.2s\n",
            "[CV 5/6] END ...n_neighbors=5, weights=distance;, score=0.769 total time=   0.2s\n",
            "[CV 6/6] END ...n_neighbors=5, weights=distance;, score=0.742 total time=   0.2s\n",
            "[CV 1/6] END ....n_neighbors=6, weights=uniform;, score=0.749 total time=   0.2s\n",
            "[CV 2/6] END ....n_neighbors=6, weights=uniform;, score=0.803 total time=   0.2s\n",
            "[CV 3/6] END ....n_neighbors=6, weights=uniform;, score=0.775 total time=   0.2s\n",
            "[CV 4/6] END ....n_neighbors=6, weights=uniform;, score=0.758 total time=   0.3s\n",
            "[CV 5/6] END ....n_neighbors=6, weights=uniform;, score=0.764 total time=   0.4s\n",
            "[CV 6/6] END ....n_neighbors=6, weights=uniform;, score=0.725 total time=   0.4s\n",
            "[CV 1/6] END ...n_neighbors=6, weights=distance;, score=0.765 total time=   0.4s\n",
            "[CV 2/6] END ...n_neighbors=6, weights=distance;, score=0.798 total time=   0.4s\n",
            "[CV 3/6] END ...n_neighbors=6, weights=distance;, score=0.780 total time=   0.3s\n",
            "[CV 4/6] END ...n_neighbors=6, weights=distance;, score=0.753 total time=   0.3s\n",
            "[CV 5/6] END ...n_neighbors=6, weights=distance;, score=0.753 total time=   0.4s\n",
            "[CV 6/6] END ...n_neighbors=6, weights=distance;, score=0.736 total time=   0.4s\n",
            "[CV 1/6] END ....n_neighbors=7, weights=uniform;, score=0.749 total time=   0.5s\n",
            "[CV 2/6] END ....n_neighbors=7, weights=uniform;, score=0.825 total time=   0.4s\n",
            "[CV 3/6] END ....n_neighbors=7, weights=uniform;, score=0.775 total time=   0.4s\n",
            "[CV 4/6] END ....n_neighbors=7, weights=uniform;, score=0.764 total time=   0.4s\n",
            "[CV 5/6] END ....n_neighbors=7, weights=uniform;, score=0.758 total time=   0.3s\n",
            "[CV 6/6] END ....n_neighbors=7, weights=uniform;, score=0.736 total time=   0.2s\n",
            "[CV 1/6] END ...n_neighbors=7, weights=distance;, score=0.749 total time=   0.2s\n",
            "[CV 2/6] END ...n_neighbors=7, weights=distance;, score=0.825 total time=   0.2s\n",
            "[CV 3/6] END ...n_neighbors=7, weights=distance;, score=0.775 total time=   0.2s\n",
            "[CV 4/6] END ...n_neighbors=7, weights=distance;, score=0.764 total time=   0.2s\n",
            "[CV 5/6] END ...n_neighbors=7, weights=distance;, score=0.764 total time=   0.2s\n",
            "[CV 6/6] END ...n_neighbors=7, weights=distance;, score=0.736 total time=   0.2s\n",
            "[CV 1/6] END ....n_neighbors=8, weights=uniform;, score=0.754 total time=   0.2s\n",
            "[CV 2/6] END ....n_neighbors=8, weights=uniform;, score=0.809 total time=   0.2s\n",
            "[CV 3/6] END ....n_neighbors=8, weights=uniform;, score=0.753 total time=   0.2s\n",
            "[CV 4/6] END ....n_neighbors=8, weights=uniform;, score=0.758 total time=   0.2s\n",
            "[CV 5/6] END ....n_neighbors=8, weights=uniform;, score=0.753 total time=   0.2s\n",
            "[CV 6/6] END ....n_neighbors=8, weights=uniform;, score=0.747 total time=   0.2s\n",
            "[CV 1/6] END ...n_neighbors=8, weights=distance;, score=0.770 total time=   0.2s\n",
            "[CV 2/6] END ...n_neighbors=8, weights=distance;, score=0.803 total time=   0.2s\n",
            "[CV 3/6] END ...n_neighbors=8, weights=distance;, score=0.764 total time=   0.2s\n",
            "[CV 4/6] END ...n_neighbors=8, weights=distance;, score=0.753 total time=   0.2s\n",
            "[CV 5/6] END ...n_neighbors=8, weights=distance;, score=0.753 total time=   0.2s\n",
            "[CV 6/6] END ...n_neighbors=8, weights=distance;, score=0.736 total time=   0.2s\n",
            "[CV 1/6] END ....n_neighbors=9, weights=uniform;, score=0.710 total time=   0.2s\n",
            "[CV 2/6] END ....n_neighbors=9, weights=uniform;, score=0.798 total time=   0.2s\n",
            "[CV 3/6] END ....n_neighbors=9, weights=uniform;, score=0.775 total time=   0.2s\n",
            "[CV 4/6] END ....n_neighbors=9, weights=uniform;, score=0.769 total time=   0.2s\n",
            "[CV 5/6] END ....n_neighbors=9, weights=uniform;, score=0.747 total time=   0.2s\n",
            "[CV 6/6] END ....n_neighbors=9, weights=uniform;, score=0.753 total time=   0.2s\n",
            "[CV 1/6] END ...n_neighbors=9, weights=distance;, score=0.710 total time=   0.2s\n",
            "[CV 2/6] END ...n_neighbors=9, weights=distance;, score=0.803 total time=   0.2s\n",
            "[CV 3/6] END ...n_neighbors=9, weights=distance;, score=0.775 total time=   0.2s\n",
            "[CV 4/6] END ...n_neighbors=9, weights=distance;, score=0.769 total time=   0.2s\n",
            "[CV 5/6] END ...n_neighbors=9, weights=distance;, score=0.753 total time=   0.2s\n",
            "[CV 6/6] END ...n_neighbors=9, weights=distance;, score=0.753 total time=   0.2s\n"
          ]
        },
        {
          "output_type": "execute_result",
          "data": {
            "text/plain": [
              "GridSearchCV(cv=6, estimator=KNeighborsClassifier(),\n",
              "             param_grid={'n_neighbors': [1, 2, 3, 4, 5, 6, 7, 8, 9],\n",
              "                         'weights': ['uniform', 'distance']},\n",
              "             verbose=3)"
            ],
            "text/html": [
              "<style>#sk-container-id-5 {color: black;background-color: white;}#sk-container-id-5 pre{padding: 0;}#sk-container-id-5 div.sk-toggleable {background-color: white;}#sk-container-id-5 label.sk-toggleable__label {cursor: pointer;display: block;width: 100%;margin-bottom: 0;padding: 0.3em;box-sizing: border-box;text-align: center;}#sk-container-id-5 label.sk-toggleable__label-arrow:before {content: \"▸\";float: left;margin-right: 0.25em;color: #696969;}#sk-container-id-5 label.sk-toggleable__label-arrow:hover:before {color: black;}#sk-container-id-5 div.sk-estimator:hover label.sk-toggleable__label-arrow:before {color: black;}#sk-container-id-5 div.sk-toggleable__content {max-height: 0;max-width: 0;overflow: hidden;text-align: left;background-color: #f0f8ff;}#sk-container-id-5 div.sk-toggleable__content pre {margin: 0.2em;color: black;border-radius: 0.25em;background-color: #f0f8ff;}#sk-container-id-5 input.sk-toggleable__control:checked~div.sk-toggleable__content {max-height: 200px;max-width: 100%;overflow: auto;}#sk-container-id-5 input.sk-toggleable__control:checked~label.sk-toggleable__label-arrow:before {content: \"▾\";}#sk-container-id-5 div.sk-estimator input.sk-toggleable__control:checked~label.sk-toggleable__label {background-color: #d4ebff;}#sk-container-id-5 div.sk-label input.sk-toggleable__control:checked~label.sk-toggleable__label {background-color: #d4ebff;}#sk-container-id-5 input.sk-hidden--visually {border: 0;clip: rect(1px 1px 1px 1px);clip: rect(1px, 1px, 1px, 1px);height: 1px;margin: -1px;overflow: hidden;padding: 0;position: absolute;width: 1px;}#sk-container-id-5 div.sk-estimator {font-family: monospace;background-color: #f0f8ff;border: 1px dotted black;border-radius: 0.25em;box-sizing: border-box;margin-bottom: 0.5em;}#sk-container-id-5 div.sk-estimator:hover {background-color: #d4ebff;}#sk-container-id-5 div.sk-parallel-item::after {content: \"\";width: 100%;border-bottom: 1px solid gray;flex-grow: 1;}#sk-container-id-5 div.sk-label:hover label.sk-toggleable__label {background-color: #d4ebff;}#sk-container-id-5 div.sk-serial::before {content: \"\";position: absolute;border-left: 1px solid gray;box-sizing: border-box;top: 0;bottom: 0;left: 50%;z-index: 0;}#sk-container-id-5 div.sk-serial {display: flex;flex-direction: column;align-items: center;background-color: white;padding-right: 0.2em;padding-left: 0.2em;position: relative;}#sk-container-id-5 div.sk-item {position: relative;z-index: 1;}#sk-container-id-5 div.sk-parallel {display: flex;align-items: stretch;justify-content: center;background-color: white;position: relative;}#sk-container-id-5 div.sk-item::before, #sk-container-id-5 div.sk-parallel-item::before {content: \"\";position: absolute;border-left: 1px solid gray;box-sizing: border-box;top: 0;bottom: 0;left: 50%;z-index: -1;}#sk-container-id-5 div.sk-parallel-item {display: flex;flex-direction: column;z-index: 1;position: relative;background-color: white;}#sk-container-id-5 div.sk-parallel-item:first-child::after {align-self: flex-end;width: 50%;}#sk-container-id-5 div.sk-parallel-item:last-child::after {align-self: flex-start;width: 50%;}#sk-container-id-5 div.sk-parallel-item:only-child::after {width: 0;}#sk-container-id-5 div.sk-dashed-wrapped {border: 1px dashed gray;margin: 0 0.4em 0.5em 0.4em;box-sizing: border-box;padding-bottom: 0.4em;background-color: white;}#sk-container-id-5 div.sk-label label {font-family: monospace;font-weight: bold;display: inline-block;line-height: 1.2em;}#sk-container-id-5 div.sk-label-container {text-align: center;}#sk-container-id-5 div.sk-container {/* jupyter's `normalize.less` sets `[hidden] { display: none; }` but bootstrap.min.css set `[hidden] { display: none !important; }` so we also need the `!important` here to be able to override the default hidden behavior on the sphinx rendered scikit-learn.org. See: https://github.com/scikit-learn/scikit-learn/issues/21755 */display: inline-block !important;position: relative;}#sk-container-id-5 div.sk-text-repr-fallback {display: none;}</style><div id=\"sk-container-id-5\" class=\"sk-top-container\"><div class=\"sk-text-repr-fallback\"><pre>GridSearchCV(cv=6, estimator=KNeighborsClassifier(),\n",
              "             param_grid={&#x27;n_neighbors&#x27;: [1, 2, 3, 4, 5, 6, 7, 8, 9],\n",
              "                         &#x27;weights&#x27;: [&#x27;uniform&#x27;, &#x27;distance&#x27;]},\n",
              "             verbose=3)</pre><b>In a Jupyter environment, please rerun this cell to show the HTML representation or trust the notebook. <br />On GitHub, the HTML representation is unable to render, please try loading this page with nbviewer.org.</b></div><div class=\"sk-container\" hidden><div class=\"sk-item sk-dashed-wrapped\"><div class=\"sk-label-container\"><div class=\"sk-label sk-toggleable\"><input class=\"sk-toggleable__control sk-hidden--visually\" id=\"sk-estimator-id-9\" type=\"checkbox\" ><label for=\"sk-estimator-id-9\" class=\"sk-toggleable__label sk-toggleable__label-arrow\">GridSearchCV</label><div class=\"sk-toggleable__content\"><pre>GridSearchCV(cv=6, estimator=KNeighborsClassifier(),\n",
              "             param_grid={&#x27;n_neighbors&#x27;: [1, 2, 3, 4, 5, 6, 7, 8, 9],\n",
              "                         &#x27;weights&#x27;: [&#x27;uniform&#x27;, &#x27;distance&#x27;]},\n",
              "             verbose=3)</pre></div></div></div><div class=\"sk-parallel\"><div class=\"sk-parallel-item\"><div class=\"sk-item\"><div class=\"sk-label-container\"><div class=\"sk-label sk-toggleable\"><input class=\"sk-toggleable__control sk-hidden--visually\" id=\"sk-estimator-id-10\" type=\"checkbox\" ><label for=\"sk-estimator-id-10\" class=\"sk-toggleable__label sk-toggleable__label-arrow\">estimator: KNeighborsClassifier</label><div class=\"sk-toggleable__content\"><pre>KNeighborsClassifier()</pre></div></div></div><div class=\"sk-serial\"><div class=\"sk-item\"><div class=\"sk-estimator sk-toggleable\"><input class=\"sk-toggleable__control sk-hidden--visually\" id=\"sk-estimator-id-11\" type=\"checkbox\" ><label for=\"sk-estimator-id-11\" class=\"sk-toggleable__label sk-toggleable__label-arrow\">KNeighborsClassifier</label><div class=\"sk-toggleable__content\"><pre>KNeighborsClassifier()</pre></div></div></div></div></div></div></div></div></div></div>"
            ]
          },
          "metadata": {},
          "execution_count": 105
        }
      ]
    },
    {
      "cell_type": "code",
      "source": [
        "#Store the best parameters and best scores for the models\n",
        "best_parameters = grid_search.best_params_\n",
        "best_score = grid_search.best_score_\n",
        "\n",
        "# And print them out. Try to make them nice!\n",
        "print(f'best_parameters {best_parameters}',\n",
        "      f'best_score {best_score}',\n",
        "      sep='\\n')"
      ],
      "metadata": {
        "colab": {
          "base_uri": "https://localhost:8080/"
        },
        "id": "zl342rzAc-jG",
        "outputId": "a0d6bfe0-cc61-4c9a-9178-cf18097cac7f"
      },
      "execution_count": null,
      "outputs": [
        {
          "output_type": "stream",
          "name": "stdout",
          "text": [
            "best_parameters {'n_neighbors': 4, 'weights': 'distance'}\n",
            "best_score 0.7741998438719749\n"
          ]
        }
      ]
    },
    {
      "cell_type": "code",
      "source": [
        "#Import the accuracy metric\n",
        "from sklearn.metrics import accuracy_score,f1_score,recall_score"
      ],
      "metadata": {
        "id": "Kymjtqm6dKpU"
      },
      "execution_count": null,
      "outputs": []
    },
    {
      "cell_type": "code",
      "source": [
        "#generate predictions from the best model\n",
        "y_pred = grid_search.predict(X_test)"
      ],
      "metadata": {
        "id": "otLXDMKndOcs"
      },
      "execution_count": null,
      "outputs": []
    },
    {
      "cell_type": "code",
      "source": [
        "#calculate the accuracy score, f1 and recall using the imported metric\n",
        "accuracy = accuracy_score(y_test, y_pred)\n",
        "f1 = f1_score(y_test, y_pred)\n",
        "recall = recall_score(y_test, y_pred)"
      ],
      "metadata": {
        "id": "2arQDbjAdQEd"
      },
      "execution_count": null,
      "outputs": []
    },
    {
      "cell_type": "code",
      "source": [
        "# And print out the accuracy of the model\n",
        "print(f'The accuracy of the model is {accuracy:.1%}')\n",
        "print(f'The F1 of the model is {f1:.1%}')\n",
        "print(f'The recall of the model is {recall:.1%}')"
      ],
      "metadata": {
        "colab": {
          "base_uri": "https://localhost:8080/"
        },
        "id": "uuqsrIWLdR3X",
        "outputId": "c623a1e7-77d1-4f13-9810-9269822c1131"
      },
      "execution_count": null,
      "outputs": [
        {
          "output_type": "stream",
          "name": "stdout",
          "text": [
            "The accuracy of the model is 82.0%\n",
            "The F1 of the model is 83.1%\n",
            "The recall of the model is 83.1%\n"
          ]
        }
      ]
    },
    {
      "cell_type": "code",
      "source": [
        "# We will import shift form the scipy multi-dimensional image processing tools\n",
        "from scipy.ndimage.interpolation import shift"
      ],
      "metadata": {
        "colab": {
          "base_uri": "https://localhost:8080/"
        },
        "id": "QIcrr2ludTlI",
        "outputId": "b079937c-b71b-4e7f-8a73-40f0b50fdba8"
      },
      "execution_count": null,
      "outputs": [
        {
          "output_type": "stream",
          "name": "stderr",
          "text": [
            "<ipython-input-111-a3102eaee97c>:2: DeprecationWarning: Please use `shift` from the `scipy.ndimage` namespace, the `scipy.ndimage.interpolation` namespace is deprecated.\n",
            "  from scipy.ndimage.interpolation import shift\n"
          ]
        }
      ]
    },
    {
      "cell_type": "code",
      "source": [
        "# Using shift, we will write a function that shifts a single image left or right\n",
        "def shift_image(image, dx, dy):\n",
        "    image = image.reshape((100, 100))\n",
        "    shifted_image = shift(image, [dy, dx], cval=0, mode=\"constant\")\n",
        "    return shifted_image.reshape([-1])"
      ],
      "metadata": {
        "id": "O0EEDYPcdZlf"
      },
      "execution_count": null,
      "outputs": []
    },
    {
      "cell_type": "code",
      "source": [
        "X_train = np.array(X_train)\n",
        "# X_test = np.array(X_test)\n",
        "# y_train = np.array(y_train)\n",
        "# y_test = np.array(y_test)\n"
      ],
      "metadata": {
        "id": "sqbAcQnOgzpu"
      },
      "execution_count": null,
      "outputs": []
    },
    {
      "cell_type": "code",
      "source": [
        "# Let's choose a random image from out training dataset\n",
        "rnd_id = rnd_gen.integers(0,\n",
        "                          X_train.shape[0]) # dataset we're sampling\n",
        "\n",
        "# And load the image associated with rnd_id from the dataset\n",
        "image = X_train[rnd_id]\n",
        "\n",
        "# Now, let's grab the same image as below and shift it down 5 pixels\n",
        "shifted_image_down = shift_image(image,\n",
        "                                 0, # dx\n",
        "                                 5) # dy\n",
        "\n",
        "# and shift the original image left five pixels\n",
        "shifted_image_left = shift_image(image,\n",
        "                                 -5, # dx\n",
        "                                 0) # dy"
      ],
      "metadata": {
        "id": "YgicAHIfdbo4"
      },
      "execution_count": null,
      "outputs": []
    },
    {
      "cell_type": "code",
      "source": [
        "#@title Run this cell to plot the images we made in the cell above. You can always doubleclick it if you want to look at the source code 😀\n",
        "# And then create a matplotlib figure where we'll plot the image\n",
        "fig, axes = plt.subplots(1, # one row\n",
        "                         3, # three columns\n",
        "                         figsize=(12,3))\n",
        "\n",
        "# Plot the original\n",
        "axes[0].set_title(\"Original\", fontsize=14)\n",
        "axes[0].imshow(image.reshape(100, 100), # turn the flattened data back into a 28x28 image\n",
        "          interpolation=\"nearest\",\n",
        "          cmap=\"Greys\");\n",
        "\n",
        "# Plot the down-shifted\n",
        "axes[1].set_title(\"Shifted down\", fontsize=14)\n",
        "axes[1].imshow(shifted_image_down.reshape(100,100),\n",
        "          interpolation=\"nearest\",\n",
        "          cmap=\"Greys\");\n",
        "\n",
        "# Plot the left-shifted\n",
        "axes[2].set_title(\"Shifted left\", fontsize=14)\n",
        "axes[2].imshow(shifted_image_left.reshape(100, 100),\n",
        "          interpolation=\"nearest\",\n",
        "          cmap=\"Greys\");"
      ],
      "metadata": {
        "colab": {
          "base_uri": "https://localhost:8080/",
          "height": 319
        },
        "id": "4pDK325vdfUW",
        "outputId": "5432eb80-1145-4bff-fd20-c73ccf104a4d"
      },
      "execution_count": null,
      "outputs": [
        {
          "output_type": "display_data",
          "data": {
            "text/plain": [
              "<Figure size 1200x300 with 3 Axes>"
            ],
            "image/png": "[encoded data removed]"
          },
          "metadata": {}
        }
      ]
    },
    {
      "cell_type": "code",
      "source": [
        "# transform the datasets into lists of images. This will make it easy to\n",
        "# iterate & append the shifted images\n",
        "X_train_augmented = [image for image in X_train]\n",
        "y_train_augmented = [label for label in y_train]\n",
        "\n",
        "print(f'We have {len(X_train_augmented)} samples originally')"
      ],
      "metadata": {
        "colab": {
          "base_uri": "https://localhost:8080/"
        },
        "id": "49wgCIHghYKu",
        "outputId": "42bba9fd-ed65-4220-d0e0-a2b299100164"
      },
      "execution_count": null,
      "outputs": [
        {
          "output_type": "stream",
          "name": "stdout",
          "text": [
            "We have 1094 samples originally\n"
          ]
        }
      ]
    },
    {
      "cell_type": "code",
      "source": [
        "# Make a tuple of shifts to apply to the datasets as augmentation.\n",
        "# a shift of 1 pixel right and 1 up is recommended for the first shift tuple,\n",
        "# and a shift of 1 pixel left, and 1 pixel down are recommended for the second tuple.\n",
        "shifts = ((1,-1),\n",
        "          (-1,1))"
      ],
      "metadata": {
        "id": "HJd2TU8lhlJ9"
      },
      "execution_count": null,
      "outputs": []
    },
    {
      "cell_type": "code",
      "source": [
        "# Let's iterate through our shifts. Remember that each shift includes a value\n",
        "# for dx and dy\n",
        "for dx, dy in shifts:\n",
        "\n",
        "    # For each shift defined, we'll iterate through the dataset to shift each\n",
        "    # image\n",
        "    for image, label in zip(X_train, y_train):\n",
        "        X_train_augmented.append(shift_image(image, dx, dy))\n",
        "        y_train_augmented.append(label)"
      ],
      "metadata": {
        "id": "bs_x8Otli5sn"
      },
      "execution_count": null,
      "outputs": []
    },
    {
      "cell_type": "code",
      "source": [
        "# Transform the lists back into numpy arrays\n",
        "X_train_augmented = np.array(X_train_augmented)\n",
        "y_train_augmented = np.array(y_train_augmented)"
      ],
      "metadata": {
        "id": "vla9NUh_i7ct"
      },
      "execution_count": null,
      "outputs": []
    },
    {
      "cell_type": "code",
      "source": [
        "#Let's print out the number of samples we have after augmenting!\n",
        "print(f'We have {len(X_train_augmented)} samples after augmenting')"
      ],
      "metadata": {
        "colab": {
          "base_uri": "https://localhost:8080/"
        },
        "id": "6Kff9SSRi_3v",
        "outputId": "099690fb-5a88-4b1d-a2bf-069d5881fe4e"
      },
      "execution_count": null,
      "outputs": [
        {
          "output_type": "stream",
          "name": "stdout",
          "text": [
            "We have 3282 samples after augmenting\n"
          ]
        }
      ]
    },
    {
      "cell_type": "code",
      "source": [
        "#@title Run this cell to shuffle the augmented data...\n",
        "\n",
        "# Generate scrambled indices list\n",
        "aug_shuffler = rnd_gen.permutation(len(X_train_augmented))\n",
        "\n",
        "# Shuffle the array using the scrambled indices - that way the input data order\n",
        "# matches the target data order\n",
        "X_train_augmented = X_train_augmented[aug_shuffler]\n",
        "y_train_augmented = y_train_augmented[aug_shuffler]"
      ],
      "metadata": {
        "id": "SNuyvKk2jDaw"
      },
      "execution_count": null,
      "outputs": []
    },
    {
      "cell_type": "code",
      "source": [
        "#Complete the code\n",
        "knn_clf = KNeighborsClassifier( # The model class we're instantiating\n",
        "    n_neighbors = best_parameters['n_neighbors'], # Load in our best number of neighbors\n",
        "    weights = best_parameters['weights']) # Load in our best weight type"
      ],
      "metadata": {
        "id": "E51yZsH1jcD0"
      },
      "execution_count": null,
      "outputs": []
    },
    {
      "cell_type": "code",
      "source": [
        "knn_clf.fit(X_train_augmented, # The input we're fitting\n",
        "            y_train_augmented) # The labels we're fitting"
      ],
      "metadata": {
        "colab": {
          "base_uri": "https://localhost:8080/",
          "height": 74
        },
        "id": "uXjfoRQAjfml",
        "outputId": "981cb8ba-13ac-4a45-fd16-229532471072"
      },
      "execution_count": null,
      "outputs": [
        {
          "output_type": "execute_result",
          "data": {
            "text/plain": [
              "KNeighborsClassifier(n_neighbors=4, weights='distance')"
            ],
            "text/html": [
              "<style>#sk-container-id-6 {color: black;background-color: white;}#sk-container-id-6 pre{padding: 0;}#sk-container-id-6 div.sk-toggleable {background-color: white;}#sk-container-id-6 label.sk-toggleable__label {cursor: pointer;display: block;width: 100%;margin-bottom: 0;padding: 0.3em;box-sizing: border-box;text-align: center;}#sk-container-id-6 label.sk-toggleable__label-arrow:before {content: \"▸\";float: left;margin-right: 0.25em;color: #696969;}#sk-container-id-6 label.sk-toggleable__label-arrow:hover:before {color: black;}#sk-container-id-6 div.sk-estimator:hover label.sk-toggleable__label-arrow:before {color: black;}#sk-container-id-6 div.sk-toggleable__content {max-height: 0;max-width: 0;overflow: hidden;text-align: left;background-color: #f0f8ff;}#sk-container-id-6 div.sk-toggleable__content pre {margin: 0.2em;color: black;border-radius: 0.25em;background-color: #f0f8ff;}#sk-container-id-6 input.sk-toggleable__control:checked~div.sk-toggleable__content {max-height: 200px;max-width: 100%;overflow: auto;}#sk-container-id-6 input.sk-toggleable__control:checked~label.sk-toggleable__label-arrow:before {content: \"▾\";}#sk-container-id-6 div.sk-estimator input.sk-toggleable__control:checked~label.sk-toggleable__label {background-color: #d4ebff;}#sk-container-id-6 div.sk-label input.sk-toggleable__control:checked~label.sk-toggleable__label {background-color: #d4ebff;}#sk-container-id-6 input.sk-hidden--visually {border: 0;clip: rect(1px 1px 1px 1px);clip: rect(1px, 1px, 1px, 1px);height: 1px;margin: -1px;overflow: hidden;padding: 0;position: absolute;width: 1px;}#sk-container-id-6 div.sk-estimator {font-family: monospace;background-color: #f0f8ff;border: 1px dotted black;border-radius: 0.25em;box-sizing: border-box;margin-bottom: 0.5em;}#sk-container-id-6 div.sk-estimator:hover {background-color: #d4ebff;}#sk-container-id-6 div.sk-parallel-item::after {content: \"\";width: 100%;border-bottom: 1px solid gray;flex-grow: 1;}#sk-container-id-6 div.sk-label:hover label.sk-toggleable__label {background-color: #d4ebff;}#sk-container-id-6 div.sk-serial::before {content: \"\";position: absolute;border-left: 1px solid gray;box-sizing: border-box;top: 0;bottom: 0;left: 50%;z-index: 0;}#sk-container-id-6 div.sk-serial {display: flex;flex-direction: column;align-items: center;background-color: white;padding-right: 0.2em;padding-left: 0.2em;position: relative;}#sk-container-id-6 div.sk-item {position: relative;z-index: 1;}#sk-container-id-6 div.sk-parallel {display: flex;align-items: stretch;justify-content: center;background-color: white;position: relative;}#sk-container-id-6 div.sk-item::before, #sk-container-id-6 div.sk-parallel-item::before {content: \"\";position: absolute;border-left: 1px solid gray;box-sizing: border-box;top: 0;bottom: 0;left: 50%;z-index: -1;}#sk-container-id-6 div.sk-parallel-item {display: flex;flex-direction: column;z-index: 1;position: relative;background-color: white;}#sk-container-id-6 div.sk-parallel-item:first-child::after {align-self: flex-end;width: 50%;}#sk-container-id-6 div.sk-parallel-item:last-child::after {align-self: flex-start;width: 50%;}#sk-container-id-6 div.sk-parallel-item:only-child::after {width: 0;}#sk-container-id-6 div.sk-dashed-wrapped {border: 1px dashed gray;margin: 0 0.4em 0.5em 0.4em;box-sizing: border-box;padding-bottom: 0.4em;background-color: white;}#sk-container-id-6 div.sk-label label {font-family: monospace;font-weight: bold;display: inline-block;line-height: 1.2em;}#sk-container-id-6 div.sk-label-container {text-align: center;}#sk-container-id-6 div.sk-container {/* jupyter's `normalize.less` sets `[hidden] { display: none; }` but bootstrap.min.css set `[hidden] { display: none !important; }` so we also need the `!important` here to be able to override the default hidden behavior on the sphinx rendered scikit-learn.org. See: https://github.com/scikit-learn/scikit-learn/issues/21755 */display: inline-block !important;position: relative;}#sk-container-id-6 div.sk-text-repr-fallback {display: none;}</style><div id=\"sk-container-id-6\" class=\"sk-top-container\"><div class=\"sk-text-repr-fallback\"><pre>KNeighborsClassifier(n_neighbors=4, weights=&#x27;distance&#x27;)</pre><b>In a Jupyter environment, please rerun this cell to show the HTML representation or trust the notebook. <br />On GitHub, the HTML representation is unable to render, please try loading this page with nbviewer.org.</b></div><div class=\"sk-container\" hidden><div class=\"sk-item\"><div class=\"sk-estimator sk-toggleable\"><input class=\"sk-toggleable__control sk-hidden--visually\" id=\"sk-estimator-id-12\" type=\"checkbox\" checked><label for=\"sk-estimator-id-12\" class=\"sk-toggleable__label sk-toggleable__label-arrow\">KNeighborsClassifier</label><div class=\"sk-toggleable__content\"><pre>KNeighborsClassifier(n_neighbors=4, weights=&#x27;distance&#x27;)</pre></div></div></div></div></div>"
            ]
          },
          "metadata": {},
          "execution_count": 123
        }
      ]
    },
    {
      "cell_type": "code",
      "source": [
        "# Let's get the predictions from our model\n",
        "y_pred = knn_clf.predict(X_test)\n",
        "\n",
        "# And use them to calculate the accuracy\n",
        "accuracy = accuracy_score(y_test, y_pred)\n",
        "\n",
        "# We'll finish by printing out our accuracy...\n",
        "print(f'The accuracy for our model training on augmented data is {accuracy:.1%}!')"
      ],
      "metadata": {
        "colab": {
          "base_uri": "https://localhost:8080/"
        },
        "id": "yZgTLS1ejjd8",
        "outputId": "37c7a03b-fac7-4cf7-a580-5dd56d3afc61"
      },
      "execution_count": null,
      "outputs": [
        {
          "output_type": "stream",
          "name": "stdout",
          "text": [
            "The accuracy for our model training on augmented data is 82.8%!\n"
          ]
        }
      ]
    },
    {
      "cell_type": "code",
      "source": [
        "from sklearn.metrics import confusion_matrix, ConfusionMatrixDisplay, accuracy_score,f1_score,recall_score\n",
        "cm = confusion_matrix(y_test,y_pred, normalize='pred')\n",
        "disp = ConfusionMatrixDisplay(confusion_matrix=cm)\n",
        "disp.plot()\n",
        "\n",
        "# Calculate and print the accuracy\n",
        "accuracy = accuracy_score(y_test, y_pred)\n",
        "print(\"Accuracy:\", accuracy)\n",
        "\n",
        "# Calculate and print the F1 score\n",
        "f1 = f1_score(y_test, y_pred)\n",
        "print(\"F1 Score:\", f1)\n",
        "\n",
        "# Calculate and print the recall\n",
        "recall = recall_score(y_test, y_pred)\n",
        "print(\"Recall:\", recall)"
      ],
      "metadata": {
        "colab": {
          "base_uri": "https://localhost:8080/",
          "height": 510
        },
        "id": "R0MbMQX2jlvv",
        "outputId": "972316cf-ea05-4fde-b5aa-e5b62c35611a"
      },
      "execution_count": null,
      "outputs": [
        {
          "output_type": "stream",
          "name": "stdout",
          "text": [
            "Accuracy: 0.8278688524590164\n",
            "F1 Score: 0.8372093023255814\n",
            "Recall: 0.8307692307692308\n"
          ]
        },
        {
          "output_type": "display_data",
          "data": {
            "text/plain": [
              "<Figure size 640x480 with 2 Axes>"
            ],
            "image/png": "[encoded data removed]"
          },
          "metadata": {}
        }
      ]
    },
    {
      "cell_type": "code",
      "source": [],
      "metadata": {
        "id": "BaVmckvarFhW"
      },
      "execution_count": null,
      "outputs": []
    }
  ]
}