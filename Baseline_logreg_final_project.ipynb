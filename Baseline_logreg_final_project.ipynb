{
  "nbformat": 4,
  "nbformat_minor": 0,
  "metadata": {
    "colab": {
      "provenance": []
    },
    "kernelspec": {
      "name": "python3",
      "display_name": "Python 3"
    },
    "language_info": {
      "name": "python"
    }
  },
  "cells": [
    {
      "cell_type": "code",
      "execution_count": null,
      "metadata": {
        "colab": {
          "base_uri": "https://localhost:8080/"
        },
        "id": "oimVsQLJdFY5",
        "outputId": "96a1502d-9fc0-4213-bdcd-8782cdbf5270"
      },
      "outputs": [
        {
          "output_type": "stream",
          "name": "stdout",
          "text": [
            "Mounted at /content/drive\n"
          ]
        }
      ],
      "source": [
        "from google.colab import drive\n",
        "drive.mount('/content/drive')"
      ]
    },
    {
      "cell_type": "code",
      "source": [
        "import tensorflow as tf\n",
        "from sklearn.model_selection import train_test_split\n",
        "import cv2\n",
        "import matplotlib\n",
        "from matplotlib import pyplot as plt\n",
        "import os\n",
        "import imghdr\n",
        "import numpy as np\n",
        "from tensorflow.keras.models import Sequential\n",
        "from tensorflow.keras.layers import Conv2D, MaxPooling2D, Dense, Flatten, Dropout, SpatialDropout2D\n",
        "from imblearn.under_sampling import RandomUnderSampler\n",
        "from tensorflow.keras.preprocessing.image import ImageDataGenerator\n",
        "\n",
        "from keras import layers\n",
        "import keras\n",
        "# Loading Tensorboard\n",
        "%load_ext tensorboard\n",
        "\n",
        "import pandas as pd\n",
        "import numpy as np\n",
        "import matplotlib.pyplot as plt\n",
        "# Pour modifier la taille de sortie de graphiques dans le notebook\n",
        "plt.rcParams['figure.figsize'] = [15, 8]\n",
        "# Les modèles de régression\n",
        "from sklearn.linear_model import LinearRegression, LogisticRegression\n",
        "# Pour la CV\n",
        "from sklearn.model_selection import train_test_split, GridSearchCV\n",
        "# Nos score F1\n",
        "from sklearn.metrics import f1_score\n",
        "# Pour encoder les sorties en vecteurs one-hot\n",
        "from sklearn.preprocessing import OneHotEncoder"
      ],
      "metadata": {
        "colab": {
          "base_uri": "https://localhost:8080/"
        },
        "id": "b6BRpfwQdMHl",
        "outputId": "4fe8b261-ceff-431c-d4c1-78ba2cf57780"
      },
      "execution_count": null,
      "outputs": [
        {
          "output_type": "stream",
          "name": "stdout",
          "text": [
            "The tensorboard extension is already loaded. To reload it, use:\n",
            "  %reload_ext tensorboard\n"
          ]
        }
      ]
    },
    {
      "cell_type": "code",
      "source": [
        "# path to the folder containing our ornithischian images and theropod images\n",
        "data_dir='/content/drive/MyDrive/ML_ENV/rsif-2022-0588-File007/dataset'\n",
        "#data_dir=\"./dataset\" # TODO remove this line"
      ],
      "metadata": {
        "id": "rGPaHLNpdTEw"
      },
      "execution_count": null,
      "outputs": []
    },
    {
      "cell_type": "code",
      "source": [
        "# Checking that our folder contains both classes\n",
        "for image_class in os.listdir(data_dir):\n",
        "  print(image_class)"
      ],
      "metadata": {
        "colab": {
          "base_uri": "https://localhost:8080/"
        },
        "id": "W9piUD7SdXZB",
        "outputId": "56fa14e0-da4e-44b5-cc10-3b9368fae59b"
      },
      "execution_count": null,
      "outputs": [
        {
          "output_type": "stream",
          "name": "stdout",
          "text": [
            "ornithischian\n",
            "theropod\n"
          ]
        }
      ]
    },
    {
      "cell_type": "code",
      "source": [
        "# build the dataset\n",
        "data = tf.keras.utils.image_dataset_from_directory(data_dir, image_size = (100,100), batch_size = 8)"
      ],
      "metadata": {
        "colab": {
          "base_uri": "https://localhost:8080/"
        },
        "id": "qHmK3FDYdZ6A",
        "outputId": "442ed6fd-d977-4aa3-efd7-180498baae41"
      },
      "execution_count": null,
      "outputs": [
        {
          "output_type": "stream",
          "name": "stdout",
          "text": [
            "Found 1587 files belonging to 2 classes.\n"
          ]
        }
      ]
    },
    {
      "cell_type": "code",
      "source": [
        "# converts our images to numpy arrays for us to easily loop through the data\n",
        "data_iterator = data.as_numpy_iterator()"
      ],
      "metadata": {
        "id": "R5GCnGQEdlD1"
      },
      "execution_count": null,
      "outputs": []
    },
    {
      "cell_type": "code",
      "source": [
        "# this allows to get another batch from our iterator\n",
        "batch = data_iterator.next()\n",
        "# have a look at our images\n",
        "fig, ax = plt.subplots(ncols=4, figsize=(20,20))\n",
        "class_labels = os.listdir(data_dir)  # Define the class labels\n",
        "\n",
        "for idx, img in enumerate(batch[0][:4]):\n",
        "    label_index = batch[1][idx]\n",
        "    class_name = class_labels[label_index]\n",
        "\n",
        "    ax[idx].imshow(img.astype(int))\n",
        "    ax[idx].title.set_text(class_name)\n",
        "\n",
        "# labels '0' will correspond to 'ornithischian' and labels '1' to 'theropod'"
      ],
      "metadata": {
        "colab": {
          "base_uri": "https://localhost:8080/",
          "height": 390
        },
        "id": "R7I6f_JmdnSP",
        "outputId": "4e046aac-5904-4dcb-f104-a98b56ffe04b"
      },
      "execution_count": null,
      "outputs": [
        {
          "output_type": "display_data",
          "data": {
            "text/plain": [
              "<Figure size 2000x2000 with 4 Axes>"
            ],
            "image/png": "[encoded data removed]"
          },
          "metadata": {}
        }
      ]
    },
    {
      "cell_type": "code",
      "source": [
        "# reload the dataset\n",
        "data = tf.keras.utils.image_dataset_from_directory(data_dir, image_size = (100,100))"
      ],
      "metadata": {
        "colab": {
          "base_uri": "https://localhost:8080/"
        },
        "id": "UuQ8pDJodwaN",
        "outputId": "7c0cab5d-d944-4dd9-a038-acecbfd61871"
      },
      "execution_count": null,
      "outputs": [
        {
          "output_type": "stream",
          "name": "stdout",
          "text": [
            "Found 1587 files belonging to 2 classes.\n"
          ]
        }
      ]
    },
    {
      "cell_type": "code",
      "source": [
        "class_indices = [0, 1]\n",
        "\n",
        "# Extract labels and features from the dataset\n",
        "labels = []\n",
        "features = []\n",
        "\n",
        "for batch in data:\n",
        "    features.append(batch[0])\n",
        "    labels.append(batch[1])\n",
        "\n",
        "features = np.concatenate(features, axis=0)\n",
        "labels = np.concatenate(labels, axis=0)\n",
        "\n",
        "# Reshape the labels to a 1D array\n",
        "labels = labels.reshape(-1, 1)\n",
        "\n",
        "# Count the number of samples in each class\n",
        "class_counts = [np.sum(labels == i) for i in class_indices]\n",
        "\n",
        "# Calculate the desired number of samples for undersampling\n",
        "desired_samples = min(class_counts)\n",
        "\n",
        "# Calculate the undersampling ratios\n",
        "sampling_ratios = {class_indices[i]: desired_samples for i in range(len(class_indices))}\n",
        "\n",
        "# Initialize the RandomUnderSampler\n",
        "rus = RandomUnderSampler(sampling_strategy=sampling_ratios, random_state=42)\n",
        "\n",
        "# Resample the data\n",
        "resampled_features, resampled_labels = rus.fit_resample(features.reshape(-1, 100 * 100 * 3), labels)\n",
        "\n",
        "# Reshape the data back to the original shape\n",
        "resampled_features = resampled_features.reshape(-1, 100, 100, 3)\n",
        "\n",
        "# Convert labels back to 1D array\n",
        "resampled_labels = resampled_labels.flatten()\n",
        "\n",
        "# Create a new tf.data.Dataset for features and labels\n",
        "resampled_data = tf.data.Dataset.from_tensor_slices((resampled_features, resampled_labels))\n",
        "unbatched_data = resampled_data.shuffle(buffer_size=len(resampled_labels))"
      ],
      "metadata": {
        "id": "eNcuqRXXd5af"
      },
      "execution_count": null,
      "outputs": []
    },
    {
      "cell_type": "code",
      "source": [
        "# Creating empty X and y lists for our images and labels\n",
        "X = []\n",
        "y = []\n",
        "\n",
        "# Iterate through the unbatched dataset\n",
        "for image, label in unbatched_data:\n",
        "    image = tf.image.rgb_to_grayscale(image)\n",
        "    # Process each image and label here\n",
        "    X.append(image.numpy())  # Append the image to X\n",
        "    y.append(label.numpy())  # Append the label to y\n",
        "\n",
        "# Convert lists to NumPy arrays if needed\n",
        "X = np.array(X)\n",
        "yield_flat_up_to = np.array(y)\n",
        "\n",
        "# Check the length of X and Y\n",
        "print(\"Length of X:\", len(X))\n",
        "print(\"Length of y:\", len(y))"
      ],
      "metadata": {
        "colab": {
          "base_uri": "https://localhost:8080/"
        },
        "id": "J4CTpDESd_KX",
        "outputId": "9a4be88a-f83d-48e0-cf3f-926c6fb489f9"
      },
      "execution_count": null,
      "outputs": [
        {
          "output_type": "stream",
          "name": "stdout",
          "text": [
            "Length of X: 1216\n",
            "Length of y: 1216\n"
          ]
        }
      ]
    },
    {
      "cell_type": "code",
      "source": [
        "# Splitting the dataset into train and test\n",
        "from sklearn.model_selection import train_test_split\n",
        "\n",
        "# set % of data to be used for testing\n",
        "test_size=.20\n",
        "rnd_seed=42\n",
        "\n",
        "# and split the dataset accordingly\n",
        "X_train, X_test, y_train, y_test = train_test_split(\n",
        "    X, # the source of X data\n",
        "    y, # the source of y data\n",
        "    test_size = test_size, # the percent of data to retain as a test\n",
        "    random_state = rnd_seed,\n",
        "    stratify=y) # set the random seed - consistent runs are important!"
      ],
      "metadata": {
        "id": "qgUdTzfKefUW"
      },
      "execution_count": null,
      "outputs": []
    },
    {
      "cell_type": "code",
      "source": [
        "# Test that the label and image match. We're using np.random instead of our\n",
        "# rnd_gen since we don't want the runs of this snippet to vary the results in\n",
        "# other snippets :) Run this as many times as you want!\n",
        "test = np.random.randint(0,len(X))\n",
        "plt.imshow(X[test].reshape((100,100)), cmap='Greys')\n",
        "print(f'The image should be of a(n) {y[test]}')"
      ],
      "metadata": {
        "colab": {
          "base_uri": "https://localhost:8080/",
          "height": 450
        },
        "id": "ySgF-4aYeic4",
        "outputId": "8cb9d7fb-555d-4028-d427-f2f2d0eb7f4f"
      },
      "execution_count": null,
      "outputs": [
        {
          "output_type": "stream",
          "name": "stdout",
          "text": [
            "The image should be of a(n) 0\n"
          ]
        },
        {
          "output_type": "display_data",
          "data": {
            "text/plain": [
              "<Figure size 640x480 with 1 Axes>"
            ],
            "image/png": "[encoded data removed]"
          },
          "metadata": {}
        }
      ]
    },
    {
      "cell_type": "code",
      "source": [
        "from sklearn.linear_model import LogisticRegression\n",
        "from sklearn.metrics import accuracy_score, f1_score, recall_score\n",
        "# Flatten each image in X_train and X_test\n",
        "X_train_flat = X_train.reshape((X_train.shape[0], -1))\n",
        "X_test_flat = X_test.reshape((X_test.shape[0], -1))\n",
        "\n",
        "# Create and fit the logistic regression model\n",
        "logreg = LogisticRegression()\n",
        "logreg.fit(X_train_flat, y_train)"
      ],
      "metadata": {
        "colab": {
          "base_uri": "https://localhost:8080/",
          "height": 213
        },
        "id": "zoBcpzMhel6e",
        "outputId": "a5d65719-4f92-442f-e027-5885c3c0ed4b"
      },
      "execution_count": null,
      "outputs": [
        {
          "output_type": "stream",
          "name": "stderr",
          "text": [
            "/usr/local/lib/python3.10/dist-packages/sklearn/linear_model/_logistic.py:458: ConvergenceWarning: lbfgs failed to converge (status=1):\n",
            "STOP: TOTAL NO. of ITERATIONS REACHED LIMIT.\n",
            "\n",
            "Increase the number of iterations (max_iter) or scale the data as shown in:\n",
            "    https://scikit-learn.org/stable/modules/preprocessing.html\n",
            "Please also refer to the documentation for alternative solver options:\n",
            "    https://scikit-learn.org/stable/modules/linear_model.html#logistic-regression\n",
            "  n_iter_i = _check_optimize_result(\n"
          ]
        },
        {
          "output_type": "execute_result",
          "data": {
            "text/plain": [
              "LogisticRegression()"
            ],
            "text/html": [
              "<style>#sk-container-id-6 {color: black;background-color: white;}#sk-container-id-6 pre{padding: 0;}#sk-container-id-6 div.sk-toggleable {background-color: white;}#sk-container-id-6 label.sk-toggleable__label {cursor: pointer;display: block;width: 100%;margin-bottom: 0;padding: 0.3em;box-sizing: border-box;text-align: center;}#sk-container-id-6 label.sk-toggleable__label-arrow:before {content: \"▸\";float: left;margin-right: 0.25em;color: #696969;}#sk-container-id-6 label.sk-toggleable__label-arrow:hover:before {color: black;}#sk-container-id-6 div.sk-estimator:hover label.sk-toggleable__label-arrow:before {color: black;}#sk-container-id-6 div.sk-toggleable__content {max-height: 0;max-width: 0;overflow: hidden;text-align: left;background-color: #f0f8ff;}#sk-container-id-6 div.sk-toggleable__content pre {margin: 0.2em;color: black;border-radius: 0.25em;background-color: #f0f8ff;}#sk-container-id-6 input.sk-toggleable__control:checked~div.sk-toggleable__content {max-height: 200px;max-width: 100%;overflow: auto;}#sk-container-id-6 input.sk-toggleable__control:checked~label.sk-toggleable__label-arrow:before {content: \"▾\";}#sk-container-id-6 div.sk-estimator input.sk-toggleable__control:checked~label.sk-toggleable__label {background-color: #d4ebff;}#sk-container-id-6 div.sk-label input.sk-toggleable__control:checked~label.sk-toggleable__label {background-color: #d4ebff;}#sk-container-id-6 input.sk-hidden--visually {border: 0;clip: rect(1px 1px 1px 1px);clip: rect(1px, 1px, 1px, 1px);height: 1px;margin: -1px;overflow: hidden;padding: 0;position: absolute;width: 1px;}#sk-container-id-6 div.sk-estimator {font-family: monospace;background-color: #f0f8ff;border: 1px dotted black;border-radius: 0.25em;box-sizing: border-box;margin-bottom: 0.5em;}#sk-container-id-6 div.sk-estimator:hover {background-color: #d4ebff;}#sk-container-id-6 div.sk-parallel-item::after {content: \"\";width: 100%;border-bottom: 1px solid gray;flex-grow: 1;}#sk-container-id-6 div.sk-label:hover label.sk-toggleable__label {background-color: #d4ebff;}#sk-container-id-6 div.sk-serial::before {content: \"\";position: absolute;border-left: 1px solid gray;box-sizing: border-box;top: 0;bottom: 0;left: 50%;z-index: 0;}#sk-container-id-6 div.sk-serial {display: flex;flex-direction: column;align-items: center;background-color: white;padding-right: 0.2em;padding-left: 0.2em;position: relative;}#sk-container-id-6 div.sk-item {position: relative;z-index: 1;}#sk-container-id-6 div.sk-parallel {display: flex;align-items: stretch;justify-content: center;background-color: white;position: relative;}#sk-container-id-6 div.sk-item::before, #sk-container-id-6 div.sk-parallel-item::before {content: \"\";position: absolute;border-left: 1px solid gray;box-sizing: border-box;top: 0;bottom: 0;left: 50%;z-index: -1;}#sk-container-id-6 div.sk-parallel-item {display: flex;flex-direction: column;z-index: 1;position: relative;background-color: white;}#sk-container-id-6 div.sk-parallel-item:first-child::after {align-self: flex-end;width: 50%;}#sk-container-id-6 div.sk-parallel-item:last-child::after {align-self: flex-start;width: 50%;}#sk-container-id-6 div.sk-parallel-item:only-child::after {width: 0;}#sk-container-id-6 div.sk-dashed-wrapped {border: 1px dashed gray;margin: 0 0.4em 0.5em 0.4em;box-sizing: border-box;padding-bottom: 0.4em;background-color: white;}#sk-container-id-6 div.sk-label label {font-family: monospace;font-weight: bold;display: inline-block;line-height: 1.2em;}#sk-container-id-6 div.sk-label-container {text-align: center;}#sk-container-id-6 div.sk-container {/* jupyter's `normalize.less` sets `[hidden] { display: none; }` but bootstrap.min.css set `[hidden] { display: none !important; }` so we also need the `!important` here to be able to override the default hidden behavior on the sphinx rendered scikit-learn.org. See: https://github.com/scikit-learn/scikit-learn/issues/21755 */display: inline-block !important;position: relative;}#sk-container-id-6 div.sk-text-repr-fallback {display: none;}</style><div id=\"sk-container-id-6\" class=\"sk-top-container\"><div class=\"sk-text-repr-fallback\"><pre>LogisticRegression()</pre><b>In a Jupyter environment, please rerun this cell to show the HTML representation or trust the notebook. <br />On GitHub, the HTML representation is unable to render, please try loading this page with nbviewer.org.</b></div><div class=\"sk-container\" hidden><div class=\"sk-item\"><div class=\"sk-estimator sk-toggleable\"><input class=\"sk-toggleable__control sk-hidden--visually\" id=\"sk-estimator-id-6\" type=\"checkbox\" checked><label for=\"sk-estimator-id-6\" class=\"sk-toggleable__label sk-toggleable__label-arrow\">LogisticRegression</label><div class=\"sk-toggleable__content\"><pre>LogisticRegression()</pre></div></div></div></div></div>"
            ]
          },
          "metadata": {},
          "execution_count": 29
        }
      ]
    },
    {
      "cell_type": "code",
      "source": [
        "y_pred=logreg.predict(X_test_flat)"
      ],
      "metadata": {
        "id": "VdQYigN6i8nY"
      },
      "execution_count": null,
      "outputs": []
    },
    {
      "cell_type": "code",
      "source": [
        "# Use score method to get accuracy of model\n",
        "accuracy = accuracy_score(y_pred, y_test)\n",
        "f1=f1_score(y_pred,y_test)\n",
        "recall=recall_score(y_pred,y_test)\n",
        "print(accuracy)\n",
        "print(f1)\n",
        "print(recall)"
      ],
      "metadata": {
        "colab": {
          "base_uri": "https://localhost:8080/"
        },
        "id": "4RIp1_h5eqhD",
        "outputId": "3e571156-4f2f-4cb7-c8ed-11219cf8fd5a"
      },
      "execution_count": null,
      "outputs": [
        {
          "output_type": "stream",
          "name": "stdout",
          "text": [
            "0.7581967213114754\n",
            "0.7630522088353414\n",
            "0.7480314960629921\n"
          ]
        }
      ]
    },
    {
      "cell_type": "code",
      "source": [
        "from sklearn.metrics import confusion_matrix, ConfusionMatrixDisplay, accuracy_score,f1_score,recall_score\n",
        "# Calculate the confusion matrix\n",
        "cm = confusion_matrix(y_test, y_pred, normalize='pred')\n",
        "\n",
        "# Display the confusion matrix\n",
        "disp = ConfusionMatrixDisplay(confusion_matrix=cm)\n",
        "disp.plot()"
      ],
      "metadata": {
        "colab": {
          "base_uri": "https://localhost:8080/",
          "height": 713
        },
        "id": "7CQOehAmf-If",
        "outputId": "d2457210-e975-4e79-b166-bdb35b7839fe"
      },
      "execution_count": null,
      "outputs": [
        {
          "output_type": "execute_result",
          "data": {
            "text/plain": [
              "<sklearn.metrics._plot.confusion_matrix.ConfusionMatrixDisplay at 0x7ea388650fa0>"
            ]
          },
          "metadata": {},
          "execution_count": 36
        },
        {
          "output_type": "display_data",
          "data": {
            "text/plain": [
              "<Figure size 1500x800 with 2 Axes>"
            ],
            "image/png": "[encoded data removed]"
          },
          "metadata": {}
        }
      ]
    },
    {
      "cell_type": "code",
      "source": [],
      "metadata": {
        "id": "PdHm7jyAjdru"
      },
      "execution_count": null,
      "outputs": []
    }
  ]
}